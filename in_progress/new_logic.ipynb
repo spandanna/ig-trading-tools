{
 "cells": [
  {
   "cell_type": "markdown",
   "metadata": {},
   "source": [
    "# IndividualStopLoss logic"
   ]
  },
  {
   "cell_type": "code",
   "execution_count": 41,
   "metadata": {},
   "outputs": [
    {
     "name": "stdout",
     "output_type": "stream",
     "text": [
      "{'IX.D.NASDAQ.CASH.IP': {'pl': -1148.300000000001, 'positions': [{'position': {'contractSize': 1.0, 'createdDate': '2022/05/26 20:18:41:000', 'dealId': 'DIAAAAJHJDUHYBC', 'dealSize': 2.0, 'direction': 'SELL', 'limitLevel': None, 'openLevel': 12244.8, 'currency': 'GBP', 'controlledRisk': False, 'stopLevel': None, 'trailingStep': None, 'trailingStopDistance': None, 'limitedRiskPremium': None}, 'market': {'instrumentName': 'US Tech 100', 'expiry': 'DFB', 'epic': 'IX.D.NASDAQ.CASH.IP', 'instrumentType': 'INDICES', 'lotSize': 1.0, 'high': 12881.9, 'low': 12670.0, 'percentageChange': 1.1, 'netChange': 139.5, 'bid': 12820.6, 'offer': 12821.6, 'updateTime': '17:29:42', 'delayTime': 0, 'streamingPricesAvailable': True, 'marketStatus': 'TRADEABLE', 'scalingFactor': 1}}, {'position': {'contractSize': 1.0, 'createdDate': '2022/05/26 20:19:08:000', 'dealId': 'DIAAAAJHJD2M8AG', 'dealSize': 1.0, 'direction': 'SELL', 'limitLevel': None, 'openLevel': 12250.1, 'currency': 'GBP', 'controlledRisk': False, 'stopLevel': None, 'trailingStep': None, 'trailingStopDistance': None, 'limitedRiskPremium': None}, 'market': {'instrumentName': 'US Tech 100', 'expiry': 'DFB', 'epic': 'IX.D.NASDAQ.CASH.IP', 'instrumentType': 'INDICES', 'lotSize': 1.0, 'high': 12881.9, 'low': 12670.0, 'percentageChange': 1.1, 'netChange': 139.5, 'bid': 12820.6, 'offer': 12821.6, 'updateTime': '17:29:42', 'delayTime': 0, 'streamingPricesAvailable': True, 'marketStatus': 'TRADEABLE', 'scalingFactor': 1}}]}, 'IX.D.FTSE.DAILY.IP': {'pl': 83.69999999999891, 'positions': [{'position': {'contractSize': 1.0, 'createdDate': '2022/05/26 20:18:50:000', 'dealId': 'DIAAAAJHJC7DVAX', 'dealSize': 1.0, 'direction': 'BUY', 'limitLevel': None, 'openLevel': 7559.3, 'currency': 'GBP', 'controlledRisk': False, 'stopLevel': None, 'trailingStep': None, 'trailingStopDistance': None, 'limitedRiskPremium': None}, 'market': {'instrumentName': 'FTSE 100', 'expiry': 'DFB', 'epic': 'IX.D.FTSE.DAILY.IP', 'instrumentType': 'INDICES', 'lotSize': 1.0, 'high': 7610.4, 'low': 7591.9, 'percentageChange': -0.01, 'netChange': -0.5, 'bid': 7600.9, 'offer': 7602.9, 'updateTime': '17:29:41', 'delayTime': 0, 'streamingPricesAvailable': True, 'marketStatus': 'TRADEABLE', 'scalingFactor': 1}}, {'position': {'contractSize': 1.0, 'createdDate': '2022/05/26 20:18:56:000', 'dealId': 'DIAAAAJHJE9JEA8', 'dealSize': 0.5, 'direction': 'BUY', 'limitLevel': None, 'openLevel': 7558.8, 'currency': 'GBP', 'controlledRisk': False, 'stopLevel': None, 'trailingStep': None, 'trailingStopDistance': None, 'limitedRiskPremium': None}, 'market': {'instrumentName': 'FTSE 100', 'expiry': 'DFB', 'epic': 'IX.D.FTSE.DAILY.IP', 'instrumentType': 'INDICES', 'lotSize': 1.0, 'high': 7610.4, 'low': 7591.9, 'percentageChange': -0.01, 'netChange': -0.5, 'bid': 7600.9, 'offer': 7602.9, 'updateTime': '17:29:41', 'delayTime': 0, 'streamingPricesAvailable': True, 'marketStatus': 'TRADEABLE', 'scalingFactor': 1}}]}, 'IX.D.DAX.DAILY.IP': {'pl': 644.7000000000007, 'positions': [{'position': {'contractSize': 1.0, 'createdDate': '2022/05/26 20:19:16:000', 'dealId': 'DIAAAAJHJDG7JA2', 'dealSize': 1.0, 'direction': 'BUY', 'limitLevel': None, 'openLevel': 14250.4, 'currency': 'GBP', 'controlledRisk': False, 'stopLevel': None, 'trailingStep': None, 'trailingStopDistance': None, 'limitedRiskPremium': None}, 'market': {'instrumentName': 'Germany 40', 'expiry': 'DFB', 'epic': 'IX.D.DAX.DAILY.IP', 'instrumentType': 'INDICES', 'lotSize': 1.0, 'high': 14587.3, 'low': 14563.0, 'percentageChange': -0.06, 'netChange': -8.5, 'bid': 14572.5, 'offer': 14575.3, 'updateTime': '17:29:42', 'delayTime': 0, 'streamingPricesAvailable': True, 'marketStatus': 'TRADEABLE', 'scalingFactor': 1}}, {'position': {'contractSize': 1.0, 'createdDate': '2022/05/26 20:20:07:000', 'dealId': 'DIAAAAJHJD2QJAG', 'dealSize': 0.5, 'direction': 'BUY', 'limitLevel': None, 'openLevel': 14249.9, 'currency': 'GBP', 'controlledRisk': False, 'stopLevel': None, 'trailingStep': None, 'trailingStopDistance': None, 'limitedRiskPremium': None}, 'market': {'instrumentName': 'Germany 40', 'expiry': 'DFB', 'epic': 'IX.D.DAX.DAILY.IP', 'instrumentType': 'INDICES', 'lotSize': 1.0, 'high': 14587.3, 'low': 14563.0, 'percentageChange': -0.06, 'netChange': -8.5, 'bid': 14572.5, 'offer': 14575.3, 'updateTime': '17:29:42', 'delayTime': 0, 'streamingPricesAvailable': True, 'marketStatus': 'TRADEABLE', 'scalingFactor': 1}}]}, 'CC.D.CL.USS.IP': {'pl': -398.7999999999993, 'positions': [{'position': {'contractSize': 1.0, 'createdDate': '2022/05/26 20:20:18:000', 'dealId': 'DIAAAAJHJDUK6BC', 'dealSize': 2.0, 'direction': 'SELL', 'limitLevel': None, 'openLevel': 11306.2, 'currency': 'GBP', 'controlledRisk': False, 'stopLevel': None, 'trailingStep': None, 'trailingStopDistance': None, 'limitedRiskPremium': None}, 'market': {'instrumentName': 'Oil - US Crude', 'expiry': 'DFB', 'epic': 'CC.D.CL.USS.IP', 'instrumentType': 'COMMODITIES', 'lotSize': 1.0, 'high': 11529.8, 'low': 11366.9, 'percentageChange': 0.77, 'netChange': 87.5, 'bid': 11501.8, 'offer': 11504.6, 'updateTime': '17:29:41', 'delayTime': 0, 'streamingPricesAvailable': True, 'marketStatus': 'TRADEABLE', 'scalingFactor': 1}}, {'position': {'contractSize': 1.0, 'createdDate': '2022/05/26 20:20:29:000', 'dealId': 'DIAAAAJHJEG9VAW', 'dealSize': 1.0, 'direction': 'SELL', 'limitLevel': None, 'openLevel': 11304.2, 'currency': 'GBP', 'controlledRisk': False, 'stopLevel': None, 'trailingStep': None, 'trailingStopDistance': None, 'limitedRiskPremium': None}, 'market': {'instrumentName': 'Oil - US Crude', 'expiry': 'DFB', 'epic': 'CC.D.CL.USS.IP', 'instrumentType': 'COMMODITIES', 'lotSize': 1.0, 'high': 11529.8, 'low': 11366.9, 'percentageChange': 0.77, 'netChange': 87.5, 'bid': 11501.8, 'offer': 11504.6, 'updateTime': '17:29:41', 'delayTime': 0, 'streamingPricesAvailable': True, 'marketStatus': 'TRADEABLE', 'scalingFactor': 1}}]}}\n",
      "close IX.D.NASDAQ.CASH.IP -0.12578099669637313 -1148.300000000001 9129.36\n",
      "close CC.D.CL.USS.IP -0.043683237379180936 -398.7999999999993 9129.36\n",
      "{'IX.D.NASDAQ.CASH.IP': 'US Tech 100', 'IX.D.FTSE.DAILY.IP': 'FTSE 100', 'IX.D.DAX.DAILY.IP': 'Germany 40', 'CC.D.CL.USS.IP': 'Oil - US Crude'}\n"
     ]
    }
   ],
   "source": [
    "from utils.utils import get_open_positions, get_account\n",
    "\n",
    "# summed is a dictionary of epics aggregated on their profit loss {'epic_name': profit loss value}\n",
    "summed = {}\n",
    "translations = {}\n",
    "\n",
    "# loop through all open positions and and aggregate on 'epic' and SUM of profit loss\n",
    "for i in get_open_positions():\n",
    "\n",
    "    # find direction and price\n",
    "    direction = i['position']['direction']\n",
    "\n",
    "    # find profit loss\n",
    "    if direction == 'BUY':\n",
    "        price = i['market']['bid']\n",
    "        pl = price - i['position']['openLevel']\n",
    "    elif direction == 'SELL':\n",
    "        price = i['market']['offer']\n",
    "        pl = i['position']['openLevel'] - price\n",
    "\n",
    "    # find epic and instrument name\n",
    "    epic = i['market']['epic']\n",
    "    instrument_name = i['market']['instrumentName']\n",
    "\n",
    "    # add epic and instrument name to the translations dictionary (if it isn't in already)\n",
    "    if not translations.get(epic):\n",
    "        translations[epic] = instrument_name\n",
    "    else:\n",
    "        pass\n",
    "\n",
    "    \n",
    "    # if epic isn't in the summed dictionary yet, add it in with the pl\n",
    "    if not summed.get(epic):\n",
    "        summed[epic] = {'pl': pl, 'positions': [i]}\n",
    "    # if epic is already in the summed dictionary, add profit loss to existing profit loss for epic\n",
    "    else:\n",
    "        summed[epic] = {'pl': summed[epic]['pl'] + pl, 'positions': summed[epic]['positions'] + [i]}\n",
    "\n",
    "print(summed)\n",
    "balance = get_account()['balance']\n",
    "\n",
    "# go through all the epics in summed and close if pl <-0.01\n",
    "for epic, pl in summed.items():\n",
    "    pl_ratio = pl['pl']/balance\n",
    "    if pl_ratio < -0.01:\n",
    "        # TODO add in closing function with email\n",
    "        print('close', epic, pl_ratio, pl['pl'], balance)\n",
    "print(translations)"
   ]
  },
  {
   "cell_type": "markdown",
   "metadata": {},
   "source": [
    "# connecting to the db (azure table storage)"
   ]
  },
  {
   "cell_type": "code",
   "execution_count": 1,
   "metadata": {},
   "outputs": [],
   "source": [
    "from azure.data.tables import TableServiceClient\n",
    "from azure.core.exceptions import ResourceNotFoundError, ResourceExistsError\n",
    "from config import SA_KEY, SA_NAME\n",
    "\n",
    "# connect to table storage\n",
    "connection_string = f\"DefaultEndpointsProtocol=https;AccountName={SA_NAME};AccountKey={SA_KEY};EndpointSuffix=core.windows.net\"\n",
    "service = TableServiceClient.from_connection_string(conn_str=connection_string)\n"
   ]
  },
  {
   "cell_type": "code",
   "execution_count": 2,
   "metadata": {},
   "outputs": [],
   "source": [
    "table = service.get_table_client('translation')\n",
    "# table.get_entity(partition_key=\"trade\", row_key=str({\"hello\": \"anna\"}))"
   ]
  },
  {
   "cell_type": "code",
   "execution_count": 12,
   "metadata": {},
   "outputs": [],
   "source": [
    "# while True:\n",
    "translations_list = []\n",
    "\n",
    "next_pk = None\n",
    "next_rk = None\n",
    "i=0\n",
    "while True:\n",
    "    entities=table.query_entities(\"PartitionKey eq 'ig'\", next_partition_key = next_pk, next_row_key = next_rk)\n",
    "    i+=1\n",
    "    for entity in entities:\n",
    "        translations_list.append(\n",
    "            {\n",
    "                \"epic\": entity[\"RowKey\"],\n",
    "                \"instrument_name\": entity[\"instrument_name\"],\n",
    "                \"trading_view_name\": None\n",
    "                }\n",
    "        )\n",
    "\n",
    "    if hasattr(entities, 'x_ms_continuation'):\n",
    "        x_ms_continuation = getattr(entities, 'x_ms_continuation')\n",
    "        next_pk = x_ms_continuation['nextpartitionkey']\n",
    "        next_rk = x_ms_continuation['nextrowkey']\n",
    "    else:\n",
    "        break;"
   ]
  },
  {
   "cell_type": "code",
   "execution_count": 14,
   "metadata": {},
   "outputs": [],
   "source": [
    "import json"
   ]
  },
  {
   "cell_type": "code",
   "execution_count": 15,
   "metadata": {},
   "outputs": [],
   "source": [
    "with open (\"translations_list.json\", \"w\") as f:\n",
    "    f.write(json.dumps(translations_list))\n",
    "    "
   ]
  },
  {
   "cell_type": "code",
   "execution_count": null,
   "metadata": {},
   "outputs": [],
   "source": [
    "table.crea"
   ]
  },
  {
   "cell_type": "code",
   "execution_count": 5,
   "metadata": {},
   "outputs": [
    {
     "data": {
      "text/plain": [
       "<iterator object azure.core.paging.ItemPaged at 0x7ff298cf6be0>"
      ]
     },
     "execution_count": 5,
     "metadata": {},
     "output_type": "execute_result"
    }
   ],
   "source": [
    "table.query_entities(\"PartitionKey eq 'ig'\")"
   ]
  },
  {
   "cell_type": "code",
   "execution_count": null,
   "metadata": {},
   "outputs": [],
   "source": [
    "table.create_entity({\n",
    "            \"PartitionKey\": \"trade\",\n",
    "            \"RowKey\": \"hello\",\n",
    "            \"alert\": \"hello\"\n",
    "        })"
   ]
  },
  {
   "cell_type": "code",
   "execution_count": null,
   "metadata": {},
   "outputs": [
    {
     "ename": "",
     "evalue": "",
     "output_type": "error",
     "traceback": [
      "\u001b[1;31mRunning cells with 'Python 3.8.5 64-bit' requires ipykernel package.\n",
      "\u001b[1;31mRun the following command to install 'ipykernel' into the Python environment. \n",
      "\u001b[1;31mCommand: '/usr/local/bin/python3.8 -m pip install ipykernel -U --user --force-reinstall'"
     ]
    }
   ],
   "source": [
    "table = service.get_table_client('translation')\n",
    "\n",
    "epic_name = \"TEST.EPIC.IDX\"\n",
    "instrument_name = \"Test Instrument Name/USD\"\n",
    "\n",
    "entity = {\n",
    "    \"PartitionKey\": \"ig\",\n",
    "    \"RowKey\": epic_name,\n",
    "    \"instrument_name\": instrument_name,\n",
    "    }\n",
    "\n",
    "# create a new entity in the table\n",
    "try:\n",
    "    table.create_entity(entity)\n",
    "except ResourceExistsError as e:\n",
    "    print(e)"
   ]
  },
  {
   "cell_type": "code",
   "execution_count": 38,
   "metadata": {},
   "outputs": [
    {
     "name": "stdout",
     "output_type": "stream",
     "text": [
      "{'PartitionKey': 'ig', 'RowKey': 'TEST.EPIC.IDX', 'instrument_name': 'Test Instrument Name/USD'}\n"
     ]
    }
   ],
   "source": [
    "# retrieve the entity\n",
    "try:\n",
    "    print(table.get_entity(\"ig\", epic_name))\n",
    "    \n",
    "except ResourceNotFoundError as e:\n",
    "    print(e)"
   ]
  },
  {
   "cell_type": "code",
   "execution_count": 39,
   "metadata": {},
   "outputs": [],
   "source": [
    "# delete the entity\n",
    "table.delete_entity(\"epic_name\", epic_name ) # doesn't error on not found"
   ]
  },
  {
   "cell_type": "markdown",
   "metadata": {},
   "source": [
    "# DailyBan Logic"
   ]
  },
  {
   "cell_type": "code",
   "execution_count": 40,
   "metadata": {},
   "outputs": [],
   "source": [
    "from config import DEAL_URL\n",
    "import datetime as dt\n",
    "import requests\n",
    "from utils.utils import get_auth_headers, get_account, get_open_positions, close_positions, send_email\n",
    "from azure.data.tables import TableServiceClient\n",
    "from azure.core.exceptions import ResourceNotFoundError, ResourceExistsError\n",
    "from config import SA_KEY, SA_NAME\n",
    "\n",
    "# connect to table storage\n",
    "connection_string = f\"DefaultEndpointsProtocol=https;AccountName={SA_NAME};AccountKey={SA_KEY};EndpointSuffix=core.windows.net\"\n",
    "service = TableServiceClient.from_connection_string(conn_str=connection_string)\n"
   ]
  },
  {
   "cell_type": "code",
   "execution_count": 56,
   "metadata": {},
   "outputs": [
    {
     "name": "stdout",
     "output_type": "stream",
     "text": [
      "https://api.ig.com/gateway/deal/history/transactions?type=ALL_DEAL&from=2022-07-05&pageSize=200\n"
     ]
    },
    {
     "data": {
      "text/plain": [
       "{'transactions': [{'date': '2022-07-05',\n",
       "   'dateUtc': '2022-07-05T15:14:04',\n",
       "   'openDateUtc': '2022-07-05T15:13:17',\n",
       "   'instrumentName': 'Spot Gold',\n",
       "   'period': 'DFB',\n",
       "   'profitAndLoss': '£-0.47',\n",
       "   'transactionType': 'DEAL',\n",
       "   'reference': 'DIAAAAJYZTJ77BD',\n",
       "   'openLevel': '1768.06',\n",
       "   'closeLevel': '1767.59',\n",
       "   'size': '+1',\n",
       "   'currency': '£',\n",
       "   'cashTransaction': False},\n",
       "  {'date': '2022-07-05',\n",
       "   'dateUtc': '2022-07-05T15:14:02',\n",
       "   'openDateUtc': '2022-07-05T15:11:30',\n",
       "   'instrumentName': 'Oil - US Crude',\n",
       "   'period': 'DFB',\n",
       "   'profitAndLoss': '£-0.55',\n",
       "   'transactionType': 'DEAL',\n",
       "   'reference': 'DIAAAAJYZSLP7A9',\n",
       "   'openLevel': '9878',\n",
       "   'closeLevel': '9875.8',\n",
       "   'size': '+0.25',\n",
       "   'currency': '£',\n",
       "   'cashTransaction': False},\n",
       "  {'date': '2022-07-05',\n",
       "   'dateUtc': '2022-07-05T15:10:21',\n",
       "   'openDateUtc': '2022-07-05T14:58:08',\n",
       "   'instrumentName': 'Oil - US Crude',\n",
       "   'period': 'DFB',\n",
       "   'profitAndLoss': '£-49.65',\n",
       "   'transactionType': 'DEAL',\n",
       "   'reference': 'DIAAAAJYZRW49AQ',\n",
       "   'openLevel': '9965.1',\n",
       "   'closeLevel': '9865.8',\n",
       "   'size': '+0.50',\n",
       "   'currency': '£',\n",
       "   'cashTransaction': False},\n",
       "  {'date': '2022-07-05',\n",
       "   'dateUtc': '2022-07-05T15:10:21',\n",
       "   'openDateUtc': '2022-07-05T14:57:15',\n",
       "   'instrumentName': 'Oil - US Crude',\n",
       "   'period': 'DFB',\n",
       "   'profitAndLoss': '£-40.20',\n",
       "   'transactionType': 'DEAL',\n",
       "   'reference': 'DIAAAAJYZRW49AQ',\n",
       "   'openLevel': '9946.2',\n",
       "   'closeLevel': '9865.8',\n",
       "   'size': '+0.50',\n",
       "   'currency': '£',\n",
       "   'cashTransaction': False},\n",
       "  {'date': '2022-07-05',\n",
       "   'dateUtc': '2022-07-05T14:56:01',\n",
       "   'openDateUtc': '2022-07-05T14:35:29',\n",
       "   'instrumentName': 'Oil - US Crude',\n",
       "   'period': 'DFB',\n",
       "   'profitAndLoss': '£-87.50',\n",
       "   'transactionType': 'DEAL',\n",
       "   'reference': 'DIAAAAJYZJKWZA8',\n",
       "   'openLevel': '10144.2',\n",
       "   'closeLevel': '9969.2',\n",
       "   'size': '+0.50',\n",
       "   'currency': '£',\n",
       "   'cashTransaction': False},\n",
       "  {'date': '2022-07-05',\n",
       "   'dateUtc': '2022-07-05T14:12:53',\n",
       "   'openDateUtc': '2022-07-05T13:36:06',\n",
       "   'instrumentName': 'Oil - US Crude',\n",
       "   'period': 'DFB',\n",
       "   'profitAndLoss': '£37.25',\n",
       "   'transactionType': 'DEAL',\n",
       "   'reference': 'DIAAAAJYYVC5VBC',\n",
       "   'openLevel': '10135.9',\n",
       "   'closeLevel': '10210.4',\n",
       "   'size': '+0.50',\n",
       "   'currency': '£',\n",
       "   'cashTransaction': False},\n",
       "  {'date': '2022-07-05',\n",
       "   'dateUtc': '2022-07-05T14:12:53',\n",
       "   'openDateUtc': '2022-07-05T13:37:27',\n",
       "   'instrumentName': 'Oil - US Crude',\n",
       "   'period': 'DFB',\n",
       "   'profitAndLoss': '£55.95',\n",
       "   'transactionType': 'DEAL',\n",
       "   'reference': 'DIAAAAJYYVC5VBC',\n",
       "   'openLevel': '10098.5',\n",
       "   'closeLevel': '10210.4',\n",
       "   'size': '+0.50',\n",
       "   'currency': '£',\n",
       "   'cashTransaction': False},\n",
       "  {'date': '2022-07-05',\n",
       "   'dateUtc': '2022-07-05T14:12:02',\n",
       "   'openDateUtc': '2022-07-05T14:11:08',\n",
       "   'instrumentName': 'Spot Gold',\n",
       "   'period': 'DFB',\n",
       "   'profitAndLoss': '£-1.47',\n",
       "   'transactionType': 'DEAL',\n",
       "   'reference': 'DIAAAAJYYVQZFA4',\n",
       "   'openLevel': '1774.78',\n",
       "   'closeLevel': '1773.31',\n",
       "   'size': '+1',\n",
       "   'currency': '£',\n",
       "   'cashTransaction': False},\n",
       "  {'date': '2022-07-05',\n",
       "   'dateUtc': '2022-07-05T14:11:01',\n",
       "   'openDateUtc': '2022-07-05T14:10:59',\n",
       "   'instrumentName': 'Spot Gold',\n",
       "   'period': 'DFB',\n",
       "   'profitAndLoss': '£-3.10',\n",
       "   'transactionType': 'DEAL',\n",
       "   'reference': 'DIAAAAJYYUM2RA6',\n",
       "   'openLevel': '1773.83',\n",
       "   'closeLevel': '1773.52',\n",
       "   'size': '+10',\n",
       "   'currency': '£',\n",
       "   'cashTransaction': False},\n",
       "  {'date': '2022-07-05',\n",
       "   'dateUtc': '2022-07-05T14:09:01',\n",
       "   'openDateUtc': '2022-07-05T14:08:40',\n",
       "   'instrumentName': 'Spot Gold',\n",
       "   'period': 'DFB',\n",
       "   'profitAndLoss': '£-3.30',\n",
       "   'transactionType': 'DEAL',\n",
       "   'reference': 'DIAAAAJYYTG78AU',\n",
       "   'openLevel': '1768.18',\n",
       "   'closeLevel': '1767.85',\n",
       "   'size': '+10',\n",
       "   'currency': '£',\n",
       "   'cashTransaction': False},\n",
       "  {'date': '2022-07-05',\n",
       "   'dateUtc': '2022-07-05T14:08:02',\n",
       "   'openDateUtc': '2022-07-05T14:06:41',\n",
       "   'instrumentName': 'Spot Gold',\n",
       "   'period': 'DFB',\n",
       "   'profitAndLoss': '£-56.00',\n",
       "   'transactionType': 'DEAL',\n",
       "   'reference': 'DIAAAAJYYTHZUAM',\n",
       "   'openLevel': '1772.85',\n",
       "   'closeLevel': '1767.25',\n",
       "   'size': '+10',\n",
       "   'currency': '£',\n",
       "   'cashTransaction': False},\n",
       "  {'date': '2022-07-05',\n",
       "   'dateUtc': '2022-07-05T14:08:01',\n",
       "   'openDateUtc': '2022-07-05T14:06:21',\n",
       "   'instrumentName': 'Spot Gold',\n",
       "   'period': 'DFB',\n",
       "   'profitAndLoss': '£-71.30',\n",
       "   'transactionType': 'DEAL',\n",
       "   'reference': 'DIAAAAJYYSMBYAU',\n",
       "   'openLevel': '1774.51',\n",
       "   'closeLevel': '1767.38',\n",
       "   'size': '+10',\n",
       "   'currency': '£',\n",
       "   'cashTransaction': False},\n",
       "  {'date': '2022-07-05',\n",
       "   'dateUtc': '2022-07-05T14:01:02',\n",
       "   'openDateUtc': '2022-07-05T13:45:31',\n",
       "   'instrumentName': 'Spot Gold',\n",
       "   'period': 'DFB',\n",
       "   'profitAndLoss': '£-100.00',\n",
       "   'transactionType': 'DEAL',\n",
       "   'reference': 'DIAAAAJYYNLS4A6',\n",
       "   'openLevel': '1790.67',\n",
       "   'closeLevel': '1780.67',\n",
       "   'size': '+10',\n",
       "   'currency': '£',\n",
       "   'cashTransaction': False},\n",
       "  {'date': '2022-07-05',\n",
       "   'dateUtc': '2022-07-05T13:52:05',\n",
       "   'openDateUtc': '2022-07-05T13:44:41',\n",
       "   'instrumentName': 'Natural Gas',\n",
       "   'period': 'DFB',\n",
       "   'profitAndLoss': '£-36.50',\n",
       "   'transactionType': 'DEAL',\n",
       "   'reference': 'DIAAAAJYYGMSFBD',\n",
       "   'openLevel': '5631',\n",
       "   'closeLevel': '5704',\n",
       "   'size': '-0.50',\n",
       "   'currency': '£',\n",
       "   'cashTransaction': False},\n",
       "  {'date': '2022-07-05',\n",
       "   'dateUtc': '2022-07-05T13:40:33',\n",
       "   'openDateUtc': '2022-07-05T07:06:50',\n",
       "   'instrumentName': 'British American Tobacco PLC (LSE)',\n",
       "   'period': 'DFB',\n",
       "   'profitAndLoss': '£66.90',\n",
       "   'transactionType': 'DEAL',\n",
       "   'reference': 'DIAAAAJYX83CNAU',\n",
       "   'openLevel': '3554.9',\n",
       "   'closeLevel': '3488',\n",
       "   'size': '-1',\n",
       "   'currency': '£',\n",
       "   'cashTransaction': False},\n",
       "  {'date': '2022-07-05',\n",
       "   'dateUtc': '2022-07-05T13:36:11',\n",
       "   'openDateUtc': '2022-07-05T13:29:30',\n",
       "   'instrumentName': 'Natural Gas',\n",
       "   'period': 'DFB',\n",
       "   'profitAndLoss': '£1.50',\n",
       "   'transactionType': 'DEAL',\n",
       "   'reference': 'DIAAAAJYX5M2QAY',\n",
       "   'openLevel': '5600',\n",
       "   'closeLevel': '5597',\n",
       "   'size': '-0.50',\n",
       "   'currency': '£',\n",
       "   'cashTransaction': False},\n",
       "  {'date': '2022-07-05',\n",
       "   'dateUtc': '2022-07-05T13:34:30',\n",
       "   'openDateUtc': '2022-07-05T07:09:34',\n",
       "   'instrumentName': 'Greggs PLC',\n",
       "   'period': 'DFB',\n",
       "   'profitAndLoss': '£52.50',\n",
       "   'transactionType': 'DEAL',\n",
       "   'reference': 'DIAAAAJYX4ELTAY',\n",
       "   'openLevel': '1858',\n",
       "   'closeLevel': '1816',\n",
       "   'size': '-1.25',\n",
       "   'currency': '£',\n",
       "   'cashTransaction': False},\n",
       "  {'date': '2022-07-05',\n",
       "   'dateUtc': '2022-07-05T13:34:27',\n",
       "   'openDateUtc': '2022-07-05T07:06:50',\n",
       "   'instrumentName': 'British American Tobacco PLC (LSE)',\n",
       "   'period': 'DFB',\n",
       "   'profitAndLoss': '£54.90',\n",
       "   'transactionType': 'DEAL',\n",
       "   'reference': 'DIAAAAJYX4A63AK',\n",
       "   'openLevel': '3554.9',\n",
       "   'closeLevel': '3500',\n",
       "   'size': '-1',\n",
       "   'currency': '£',\n",
       "   'cashTransaction': False},\n",
       "  {'date': '2022-07-05',\n",
       "   'dateUtc': '2022-07-05T13:34:01',\n",
       "   'openDateUtc': '2022-07-05T13:17:55',\n",
       "   'instrumentName': 'Oil - US Crude',\n",
       "   'period': 'DFB',\n",
       "   'profitAndLoss': '£-69.30',\n",
       "   'transactionType': 'DEAL',\n",
       "   'reference': 'DIAAAAJYX3NQXA8',\n",
       "   'openLevel': '10306.3',\n",
       "   'closeLevel': '10167.7',\n",
       "   'size': '+0.50',\n",
       "   'currency': '£',\n",
       "   'cashTransaction': False},\n",
       "  {'date': '2022-07-05',\n",
       "   'dateUtc': '2022-07-05T13:34:01',\n",
       "   'openDateUtc': '2022-07-05T13:31:32',\n",
       "   'instrumentName': 'Oil - US Crude',\n",
       "   'period': 'DFB',\n",
       "   'profitAndLoss': '£-18.25',\n",
       "   'transactionType': 'DEAL',\n",
       "   'reference': 'DIAAAAJYX3PKLAP',\n",
       "   'openLevel': '10205.5',\n",
       "   'closeLevel': '10169',\n",
       "   'size': '+0.50',\n",
       "   'currency': '£',\n",
       "   'cashTransaction': False},\n",
       "  {'date': '2022-07-05',\n",
       "   'dateUtc': '2022-07-05T13:31:02',\n",
       "   'openDateUtc': '2022-07-01T15:12:36',\n",
       "   'instrumentName': 'Corn',\n",
       "   'period': 'DFB',\n",
       "   'profitAndLoss': '£-99.50',\n",
       "   'transactionType': 'DEAL',\n",
       "   'reference': 'DIAAAAJYXZDBUAX',\n",
       "   'openLevel': '619.5',\n",
       "   'closeLevel': '599.6',\n",
       "   'size': '+5',\n",
       "   'currency': '£',\n",
       "   'cashTransaction': False},\n",
       "  {'date': '2022-07-05',\n",
       "   'dateUtc': '2022-07-05T13:19:49',\n",
       "   'openDateUtc': '2022-07-05T13:18:31',\n",
       "   'instrumentName': 'Natural Gas',\n",
       "   'period': 'DFB',\n",
       "   'profitAndLoss': '£-1.00',\n",
       "   'transactionType': 'DEAL',\n",
       "   'reference': 'DIAAAAJYXTF3WAZ',\n",
       "   'openLevel': '5534',\n",
       "   'closeLevel': '5532',\n",
       "   'size': '+0.50',\n",
       "   'currency': '£',\n",
       "   'cashTransaction': False},\n",
       "  {'date': '2022-07-05',\n",
       "   'dateUtc': '2022-07-05T13:11:30',\n",
       "   'openDateUtc': '2022-07-04T12:40:32',\n",
       "   'instrumentName': 'BAE Systems PLC',\n",
       "   'period': 'DFB',\n",
       "   'profitAndLoss': '£124.00',\n",
       "   'transactionType': 'DEAL',\n",
       "   'reference': 'DIAAAAJYXQ9J7BC',\n",
       "   'openLevel': '839.2',\n",
       "   'closeLevel': '814.4',\n",
       "   'size': '-5',\n",
       "   'currency': '£',\n",
       "   'cashTransaction': False},\n",
       "  {'date': '2022-07-05',\n",
       "   'dateUtc': '2022-07-05T13:11:30',\n",
       "   'openDateUtc': '2022-07-05T08:14:48',\n",
       "   'instrumentName': 'BAE Systems PLC',\n",
       "   'period': 'DFB',\n",
       "   'profitAndLoss': '£78.00',\n",
       "   'transactionType': 'DEAL',\n",
       "   'reference': 'DIAAAAJYXQ9J7BC',\n",
       "   'openLevel': '830',\n",
       "   'closeLevel': '814.4',\n",
       "   'size': '-5',\n",
       "   'currency': '£',\n",
       "   'cashTransaction': False},\n",
       "  {'date': '2022-07-05',\n",
       "   'dateUtc': '2022-07-05T09:57:14',\n",
       "   'openDateUtc': '2022-07-05T07:09:34',\n",
       "   'instrumentName': 'Greggs PLC',\n",
       "   'period': 'DFB',\n",
       "   'profitAndLoss': '£53.75',\n",
       "   'transactionType': 'DEAL',\n",
       "   'reference': 'DIAAAAJYWABXDAH',\n",
       "   'openLevel': '1858',\n",
       "   'closeLevel': '1815',\n",
       "   'size': '-1.25',\n",
       "   'currency': '£',\n",
       "   'cashTransaction': False},\n",
       "  {'date': '2022-07-05',\n",
       "   'dateUtc': '2022-07-05T09:54:18',\n",
       "   'openDateUtc': '2022-07-05T07:45:31',\n",
       "   'instrumentName': 'Sainsbury (J) PLC',\n",
       "   'period': 'DFB',\n",
       "   'profitAndLoss': '£6.40',\n",
       "   'transactionType': 'DEAL',\n",
       "   'reference': 'DIAAAAJYWAMSFAV',\n",
       "   'openLevel': '211.79',\n",
       "   'closeLevel': '210.51',\n",
       "   'size': '-5',\n",
       "   'currency': '£',\n",
       "   'cashTransaction': False},\n",
       "  {'date': '2022-07-05',\n",
       "   'dateUtc': '2022-07-05T07:55:00',\n",
       "   'openDateUtc': '2022-07-05T07:53:15',\n",
       "   'instrumentName': 'Germany 40',\n",
       "   'period': 'DFB',\n",
       "   'profitAndLoss': '£-8.45',\n",
       "   'transactionType': 'DEAL',\n",
       "   'reference': 'DIAAAAJYU3W7SAK',\n",
       "   'openLevel': '12818.9',\n",
       "   'closeLevel': '12835.8',\n",
       "   'size': '-0.50',\n",
       "   'currency': '£',\n",
       "   'cashTransaction': False},\n",
       "  {'date': '2022-07-05',\n",
       "   'dateUtc': '2022-07-05T07:44:48',\n",
       "   'openDateUtc': '2022-07-04T12:40:32',\n",
       "   'instrumentName': 'BAE Systems PLC',\n",
       "   'period': 'DFB',\n",
       "   'profitAndLoss': '£83.00',\n",
       "   'transactionType': 'DEAL',\n",
       "   'reference': 'DIAAAAJYUZGWLA2',\n",
       "   'openLevel': '839.2',\n",
       "   'closeLevel': '822.6',\n",
       "   'size': '-5',\n",
       "   'currency': '£',\n",
       "   'cashTransaction': False}],\n",
       " 'metadata': {'size': 28,\n",
       "  'pageData': {'pageSize': 200, 'pageNumber': 1, 'totalPages': 1}}}"
      ]
     },
     "execution_count": 56,
     "metadata": {},
     "output_type": "execute_result"
    }
   ],
   "source": [
    "# Get transactions for today\n",
    "\n",
    "today = dt.date.today().isoformat()\n",
    "\n",
    "url = f\"{DEAL_URL}/history/transactions?type=ALL_DEAL&from={today}&pageSize=200\"\n",
    "print(url)\n",
    "headers = get_auth_headers()\n",
    "headers[\"version\"] = \"2\"\n",
    "resp = requests.get(url, headers = headers)\n",
    "resp.json()\n",
    "\n",
    "\n"
   ]
  },
  {
   "cell_type": "code",
   "execution_count": 57,
   "metadata": {},
   "outputs": [],
   "source": [
    "balance = get_account()[\"balance\"]\n",
    "summed = {}\n",
    "\n",
    "for i in resp.json()['transactions']:\n",
    "    instrument_name = i[\"instrumentName\"]\n",
    "    pl = float(i[\"profitAndLoss\"][1:])\n",
    "    if summed.get(instrument_name):\n",
    "        summed[instrument_name] = summed[instrument_name] + pl\n",
    "    else:\n",
    "        summed[instrument_name] = pl\n"
   ]
  },
  {
   "cell_type": "code",
   "execution_count": 58,
   "metadata": {},
   "outputs": [
    {
     "data": {
      "text/plain": [
       "{'Spot Gold': -235.64,\n",
       " 'Oil - US Crude': -172.25,\n",
       " 'Natural Gas': -36.0,\n",
       " 'British American Tobacco PLC (LSE)': 121.80000000000001,\n",
       " 'Greggs PLC': 106.25,\n",
       " 'Corn': -99.5,\n",
       " 'BAE Systems PLC': 285.0,\n",
       " 'Sainsbury (J) PLC': 6.4,\n",
       " 'Germany 40': -8.45}"
      ]
     },
     "execution_count": 58,
     "metadata": {},
     "output_type": "execute_result"
    }
   ],
   "source": [
    "summed"
   ]
  },
  {
   "cell_type": "code",
   "execution_count": 59,
   "metadata": {},
   "outputs": [
    {
     "data": {
      "text/plain": [
       "[{'instrument_name': 'Spot Gold',\n",
       "  'pl_ratio': -0.02856838031686606,\n",
       "  'balance': -235.64},\n",
       " {'instrument_name': 'Oil - US Crude',\n",
       "  'pl_ratio': -0.020883141697420553,\n",
       "  'balance': -172.25}]"
      ]
     },
     "execution_count": 59,
     "metadata": {},
     "output_type": "execute_result"
    }
   ],
   "source": [
    "# [i for i in map(lambda x: x, summed)]\n",
    "close = []\n",
    "for k,v in summed.items():\n",
    "    pl_ratio = v/balance\n",
    "    if pl_ratio <= -0.02:\n",
    "        close.append({'instrument_name': k, 'pl_ratio': pl_ratio, 'balance': v})\n",
    "close"
   ]
  },
  {
   "cell_type": "code",
   "execution_count": null,
   "metadata": {},
   "outputs": [],
   "source": [
    "table = service.get_table_client('trades')"
   ]
  },
  {
   "cell_type": "code",
   "execution_count": 60,
   "metadata": {},
   "outputs": [
    {
     "data": {
      "text/plain": [
       "[{'instrument_name': 'Spot Gold',\n",
       "  'pl_ratio': -0.02856838031686606,\n",
       "  'balance': -235.64,\n",
       "  'epic': 'CS.D.USCGC.TODAY.IP'},\n",
       " {'instrument_name': 'Oil - US Crude',\n",
       "  'pl_ratio': -0.020883141697420553,\n",
       "  'balance': -172.25,\n",
       "  'epic': 'CC.D.CL.USS.IP'}]"
      ]
     },
     "execution_count": 60,
     "metadata": {},
     "output_type": "execute_result"
    }
   ],
   "source": [
    "table = service.get_table_client('translation')\n",
    "\n",
    "for i in close:\n",
    "\n",
    "    result = [i for i in table.query_entities(query_filter=f\"instrument_name eq '{i['instrument_name']}'\")]\n",
    "    if len(result) == 1:\n",
    "        i[\"epic\"] = result[0][\"RowKey\"]\n",
    "    elif len(result) == 0:\n",
    "        send_email(f\"No epic found for instrument {i['instrument_name']}\", \"Missing epic / instrument name translation.\")\n",
    "        # exit from func\n",
    "    \n",
    "close\n",
    "    "
   ]
  },
  {
   "cell_type": "code",
   "execution_count": 61,
   "metadata": {},
   "outputs": [],
   "source": [
    "conditions = [(['market', 'epic'], i['epic']) for i in close]"
   ]
  },
  {
   "cell_type": "code",
   "execution_count": 62,
   "metadata": {},
   "outputs": [
    {
     "data": {
      "text/plain": [
       "[(['market', 'epic'], 'CS.D.USCGC.TODAY.IP'),\n",
       " (['market', 'epic'], 'CC.D.CL.USS.IP')]"
      ]
     },
     "execution_count": 62,
     "metadata": {},
     "output_type": "execute_result"
    }
   ],
   "source": [
    "conditions"
   ]
  },
  {
   "cell_type": "code",
   "execution_count": 64,
   "metadata": {},
   "outputs": [
    {
     "name": "stdout",
     "output_type": "stream",
     "text": [
      "CS.D.USCGC.TODAY.IP\n",
      "0\n",
      "[]\n",
      "CC.D.CL.USS.IP\n",
      "0\n",
      "[]\n"
     ]
    }
   ],
   "source": [
    "for c in conditions:\n",
    "    print(c[1])\n",
    "    positions = get_open_positions(c)\n",
    "    print(len(positions))\n",
    "    print(positions)\n",
    "    # msg = close_positions(positions)\n",
    "    # print(msg)\n"
   ]
  },
  {
   "cell_type": "code",
   "execution_count": null,
   "metadata": {},
   "outputs": [],
   "source": []
  }
 ],
 "metadata": {
  "kernelspec": {
   "display_name": "Python 3.7.9 ('.venv': venv)",
   "language": "python",
   "name": "python3"
  },
  "language_info": {
   "codemirror_mode": {
    "name": "ipython",
    "version": 3
   },
   "file_extension": ".py",
   "mimetype": "text/x-python",
   "name": "python",
   "nbconvert_exporter": "python",
   "pygments_lexer": "ipython3",
   "version": "3.8.5"
  },
  "orig_nbformat": 4,
  "vscode": {
   "interpreter": {
    "hash": "9c8c194556eaa19787cb4c5c252d1bf9aacd8319a5d91a3b23f60a12676d5f92"
   }
  }
 },
 "nbformat": 4,
 "nbformat_minor": 2
}
